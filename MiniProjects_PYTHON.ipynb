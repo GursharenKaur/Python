{
  "nbformat": 4,
  "nbformat_minor": 0,
  "metadata": {
    "colab": {
      "provenance": [],
      "authorship_tag": "ABX9TyMuIektPZnzTAEMe9m/WWbN",
      "include_colab_link": true
    },
    "kernelspec": {
      "name": "python3",
      "display_name": "Python 3"
    },
    "language_info": {
      "name": "python"
    }
  },
  "cells": [
    {
      "cell_type": "markdown",
      "metadata": {
        "id": "view-in-github",
        "colab_type": "text"
      },
      "source": [
        "<a href=\"https://colab.research.google.com/github/GursharenKaur/Python/blob/main/MiniProjects_PYTHON.ipynb\" target=\"_parent\"><img src=\"https://colab.research.google.com/assets/colab-badge.svg\" alt=\"Open In Colab\"/></a>"
      ]
    },
    {
      "cell_type": "markdown",
      "source": [
        "# **Challenge Question**\n"
      ],
      "metadata": {
        "id": "P5EaLVpmLGTc"
      }
    },
    {
      "cell_type": "markdown",
      "source": [
        "Program to sort a list containing heterogenous elements."
      ],
      "metadata": {
        "id": "LAE3X7D8ktu_"
      }
    },
    {
      "cell_type": "code",
      "source": [
        "def heteroSort(L):\n",
        "  for i in range(0,len(L)):\n",
        "    if type(L[i]) == int:\n",
        "      L[i] = str(L[i])\n",
        "  L.sort()\n",
        "  return L\n",
        "\n",
        "L=['Ram',1,'Shyam',2,'Aman',3]\n",
        "print(L)\n",
        "\n",
        "L1=heteroSort(L)\n",
        "print(L1)"
      ],
      "metadata": {
        "colab": {
          "base_uri": "https://localhost:8080/"
        },
        "id": "gTQVSoEELbt7",
        "outputId": "b5ecf1fd-d449-4f04-9b45-42c50067cfaf"
      },
      "execution_count": 14,
      "outputs": [
        {
          "output_type": "stream",
          "name": "stdout",
          "text": [
            "['Ram', 1, 'Shyam', 2, 'Aman', 3]\n",
            "['1', '2', '3', 'Aman', 'Ram', 'Shyam']\n"
          ]
        }
      ]
    },
    {
      "cell_type": "markdown",
      "source": [
        "# **SUBSET-SELECTION PROBLEM**"
      ],
      "metadata": {
        "id": "ZuZy8p8EkiTq"
      }
    },
    {
      "cell_type": "markdown",
      "source": [
        "Find all the subsets from a set of numbers whose sum is zero.\n",
        "Constraint: Subset size must be 5. Set={-12, -3, -6, 7, 2, -2, 6, 3, 9, -7, -5, -8, 1, 11, -9, -4}"
      ],
      "metadata": {
        "id": "h3rxrbInlE7_"
      }
    },
    {
      "cell_type": "code",
      "source": [
        "import random as r\n",
        "A={-12, -3, -6, 7, 2, -2, 6, 3, 9, -7, -5, -8, 1, 11, -9, -4}\n",
        "A=list(A)\n",
        "for i in range(0, len(A)):\n",
        "  B= r.sample(A,5)\n",
        "\n",
        "  if sum(B) == 0:\n",
        "    B1 = set(B)\n",
        "    print(\"Set with sum zero= \", B1)"
      ],
      "metadata": {
        "colab": {
          "base_uri": "https://localhost:8080/"
        },
        "id": "MbFCuZvUkqOD",
        "outputId": "be3ee5f9-e69c-46c1-b8a8-d650ebcbbe21"
      },
      "execution_count": 34,
      "outputs": [
        {
          "output_type": "stream",
          "name": "stdout",
          "text": [
            "Set with sum zero=  {6, 7, -8, -3, -2}\n",
            "Set with sum zero=  {1, 11, -6, -4, -2}\n"
          ]
        }
      ]
    },
    {
      "cell_type": "markdown",
      "source": [
        "# **COMBO FINDER**"
      ],
      "metadata": {
        "id": "-4_fhrlpoF9y"
      }
    },
    {
      "cell_type": "markdown",
      "source": [
        "Find all the list of products whose sum-of-price is between 290 and 310.\n",
        "\n",
        "ProductList = {p1:10, p2:15, p3:20, p4:25, p5:30, p6:35, p7:50}"
      ],
      "metadata": {
        "id": "4ACB1CTpoR0d"
      }
    },
    {
      "cell_type": "code",
      "source": [
        "import random as r\n",
        "\n",
        "ProductList = {'p1':10, 'p2':15, 'p3':20, 'p4':25, 'p5':30, 'p6':35, 'p7':50}\n",
        "for i in range(1000):\n",
        "  prices = list(ProductList.keys())\n",
        "  size = r.randint(2,len(ProductList)-1)\n",
        "\n",
        "  L=r.sample(prices,size)\n",
        "\n",
        "  sumProduct = sum(ProductList[i] for i in L)\n",
        "  if (sumProduct>=100) and (sumProduct<=120):\n",
        "    print(L, \"sum= \", sumProduct)\n",
        "    print(\"Length of result list= \",len(L))\n"
      ],
      "metadata": {
        "colab": {
          "base_uri": "https://localhost:8080/"
        },
        "collapsed": true,
        "id": "A6yjgydQoT5q",
        "outputId": "bb9e7eba-4d0a-4a64-f9af-0718307c364a"
      },
      "execution_count": 26,
      "outputs": [
        {
          "output_type": "stream",
          "name": "stdout",
          "text": [
            "['p2', 'p3', 'p4', 'p1', 'p6'] sum=  105\n",
            "Length of result list=  5\n",
            "['p1', 'p6', 'p2', 'p7'] sum=  110\n",
            "Length of result list=  4\n",
            "['p4', 'p2', 'p3', 'p1', 'p7'] sum=  120\n",
            "Length of result list=  5\n",
            "['p5', 'p7', 'p2', 'p3'] sum=  115\n",
            "Length of result list=  4\n",
            "['p2', 'p6', 'p3', 'p5', 'p1'] sum=  110\n",
            "Length of result list=  5\n",
            "['p3', 'p1', 'p6', 'p7'] sum=  115\n",
            "Length of result list=  4\n",
            "['p2', 'p1', 'p6', 'p7'] sum=  110\n",
            "Length of result list=  4\n",
            "['p6', 'p2', 'p7'] sum=  100\n",
            "Length of result list=  3\n",
            "['p7', 'p5', 'p6'] sum=  115\n",
            "Length of result list=  3\n",
            "['p6', 'p1', 'p3', 'p5', 'p2'] sum=  110\n",
            "Length of result list=  5\n",
            "['p7', 'p1', 'p2', 'p4'] sum=  100\n",
            "Length of result list=  4\n",
            "['p4', 'p7', 'p3', 'p1', 'p2'] sum=  120\n",
            "Length of result list=  5\n",
            "['p2', 'p1', 'p6', 'p4', 'p3'] sum=  105\n",
            "Length of result list=  5\n",
            "['p6', 'p5', 'p3', 'p2'] sum=  100\n",
            "Length of result list=  4\n",
            "['p5', 'p7', 'p4', 'p2'] sum=  120\n",
            "Length of result list=  4\n",
            "['p6', 'p1', 'p3', 'p7'] sum=  115\n",
            "Length of result list=  4\n",
            "['p5', 'p3', 'p2', 'p6'] sum=  100\n",
            "Length of result list=  4\n",
            "['p6', 'p2', 'p7'] sum=  100\n",
            "Length of result list=  3\n",
            "['p4', 'p1', 'p5', 'p3', 'p2'] sum=  100\n",
            "Length of result list=  5\n",
            "['p2', 'p3', 'p6', 'p5'] sum=  100\n",
            "Length of result list=  4\n",
            "['p5', 'p4', 'p6', 'p1', 'p2'] sum=  115\n",
            "Length of result list=  5\n",
            "['p5', 'p1', 'p3', 'p7'] sum=  110\n",
            "Length of result list=  4\n",
            "['p1', 'p7', 'p2', 'p4', 'p3'] sum=  120\n",
            "Length of result list=  5\n",
            "['p7', 'p3', 'p5'] sum=  100\n",
            "Length of result list=  3\n",
            "['p2', 'p1', 'p3', 'p6', 'p4'] sum=  105\n",
            "Length of result list=  5\n",
            "['p5', 'p7', 'p4'] sum=  105\n",
            "Length of result list=  3\n",
            "['p7', 'p1', 'p4', 'p2', 'p3'] sum=  120\n",
            "Length of result list=  5\n",
            "['p3', 'p7', 'p6'] sum=  105\n",
            "Length of result list=  3\n",
            "['p4', 'p2', 'p7', 'p1'] sum=  100\n",
            "Length of result list=  4\n",
            "['p3', 'p1', 'p4', 'p7'] sum=  105\n",
            "Length of result list=  4\n",
            "['p7', 'p4', 'p1', 'p3', 'p2'] sum=  120\n",
            "Length of result list=  5\n",
            "['p2', 'p5', 'p3', 'p6', 'p1'] sum=  110\n",
            "Length of result list=  5\n",
            "['p7', 'p3', 'p4', 'p1'] sum=  105\n",
            "Length of result list=  4\n",
            "['p6', 'p2', 'p1', 'p7'] sum=  110\n",
            "Length of result list=  4\n",
            "['p2', 'p4', 'p7', 'p5'] sum=  120\n",
            "Length of result list=  4\n",
            "['p4', 'p7', 'p5'] sum=  105\n",
            "Length of result list=  3\n",
            "['p4', 'p1', 'p6', 'p2', 'p3'] sum=  105\n",
            "Length of result list=  5\n",
            "['p1', 'p5', 'p3', 'p7'] sum=  110\n",
            "Length of result list=  4\n",
            "['p5', 'p3', 'p7'] sum=  100\n",
            "Length of result list=  3\n",
            "['p1', 'p4', 'p5', 'p7'] sum=  115\n",
            "Length of result list=  4\n",
            "['p6', 'p5', 'p4', 'p2'] sum=  105\n",
            "Length of result list=  4\n",
            "['p2', 'p5', 'p1', 'p7'] sum=  105\n",
            "Length of result list=  4\n",
            "['p6', 'p1', 'p3', 'p7'] sum=  115\n",
            "Length of result list=  4\n",
            "['p5', 'p2', 'p1', 'p7'] sum=  105\n",
            "Length of result list=  4\n",
            "['p2', 'p7', 'p3', 'p4', 'p1'] sum=  120\n",
            "Length of result list=  5\n",
            "['p3', 'p7', 'p5'] sum=  100\n",
            "Length of result list=  3\n",
            "['p5', 'p1', 'p7', 'p4'] sum=  115\n",
            "Length of result list=  4\n",
            "['p1', 'p4', 'p7', 'p3', 'p2'] sum=  120\n",
            "Length of result list=  5\n",
            "['p4', 'p7', 'p2', 'p3'] sum=  110\n",
            "Length of result list=  4\n",
            "['p1', 'p2', 'p7', 'p4'] sum=  100\n",
            "Length of result list=  4\n",
            "['p2', 'p4', 'p1', 'p7', 'p3'] sum=  120\n",
            "Length of result list=  5\n",
            "['p7', 'p3', 'p6'] sum=  105\n",
            "Length of result list=  3\n",
            "['p6', 'p5', 'p3', 'p4'] sum=  110\n",
            "Length of result list=  4\n",
            "['p5', 'p4', 'p7'] sum=  105\n",
            "Length of result list=  3\n",
            "['p1', 'p2', 'p3', 'p4', 'p7'] sum=  120\n",
            "Length of result list=  5\n",
            "['p5', 'p6', 'p1', 'p2', 'p3'] sum=  110\n",
            "Length of result list=  5\n",
            "['p3', 'p1', 'p5', 'p6', 'p4'] sum=  120\n",
            "Length of result list=  5\n",
            "['p2', 'p3', 'p6', 'p1', 'p4'] sum=  105\n",
            "Length of result list=  5\n",
            "['p3', 'p2', 'p5', 'p7'] sum=  115\n",
            "Length of result list=  4\n",
            "['p6', 'p3', 'p7'] sum=  105\n",
            "Length of result list=  3\n",
            "['p3', 'p4', 'p1', 'p7'] sum=  105\n",
            "Length of result list=  4\n",
            "['p1', 'p7', 'p2', 'p4'] sum=  100\n",
            "Length of result list=  4\n",
            "['p2', 'p1', 'p6', 'p5', 'p3'] sum=  110\n",
            "Length of result list=  5\n",
            "['p7', 'p3', 'p5'] sum=  100\n",
            "Length of result list=  3\n",
            "['p1', 'p5', 'p4', 'p3', 'p2'] sum=  100\n",
            "Length of result list=  5\n",
            "['p3', 'p1', 'p7', 'p5'] sum=  110\n",
            "Length of result list=  4\n",
            "['p7', 'p1', 'p2', 'p4'] sum=  100\n",
            "Length of result list=  4\n",
            "['p7', 'p1', 'p5', 'p3'] sum=  110\n",
            "Length of result list=  4\n",
            "['p3', 'p4', 'p1', 'p7', 'p2'] sum=  120\n",
            "Length of result list=  5\n",
            "['p7', 'p2', 'p3', 'p6'] sum=  120\n",
            "Length of result list=  4\n",
            "['p3', 'p4', 'p7', 'p2', 'p1'] sum=  120\n",
            "Length of result list=  5\n",
            "['p1', 'p4', 'p2', 'p6', 'p3'] sum=  105\n",
            "Length of result list=  5\n",
            "['p1', 'p3', 'p7', 'p4', 'p2'] sum=  120\n",
            "Length of result list=  5\n",
            "['p7', 'p4', 'p2', 'p1'] sum=  100\n",
            "Length of result list=  4\n",
            "['p4', 'p3', 'p5', 'p1', 'p2'] sum=  100\n",
            "Length of result list=  5\n",
            "['p7', 'p3', 'p5'] sum=  100\n",
            "Length of result list=  3\n",
            "['p6', 'p5', 'p3', 'p2'] sum=  100\n",
            "Length of result list=  4\n",
            "['p3', 'p5', 'p1', 'p7'] sum=  110\n",
            "Length of result list=  4\n",
            "['p1', 'p7', 'p2', 'p4'] sum=  100\n",
            "Length of result list=  4\n",
            "['p1', 'p4', 'p5', 'p7'] sum=  115\n",
            "Length of result list=  4\n",
            "['p4', 'p5', 'p6', 'p2'] sum=  105\n",
            "Length of result list=  4\n",
            "['p3', 'p4', 'p1', 'p5', 'p6'] sum=  120\n",
            "Length of result list=  5\n",
            "['p1', 'p3', 'p2', 'p4', 'p5'] sum=  100\n",
            "Length of result list=  5\n",
            "['p4', 'p7', 'p3', 'p2'] sum=  110\n",
            "Length of result list=  4\n",
            "['p1', 'p3', 'p2', 'p4', 'p7'] sum=  120\n",
            "Length of result list=  5\n",
            "['p1', 'p2', 'p4', 'p3', 'p6'] sum=  105\n",
            "Length of result list=  5\n",
            "['p7', 'p6', 'p1', 'p2'] sum=  110\n",
            "Length of result list=  4\n",
            "['p6', 'p7', 'p4'] sum=  110\n",
            "Length of result list=  3\n",
            "['p1', 'p5', 'p2', 'p7'] sum=  105\n",
            "Length of result list=  4\n",
            "['p4', 'p2', 'p5', 'p6'] sum=  105\n",
            "Length of result list=  4\n",
            "['p6', 'p5', 'p7'] sum=  115\n",
            "Length of result list=  3\n",
            "['p7', 'p5', 'p4', 'p2'] sum=  120\n",
            "Length of result list=  4\n",
            "['p3', 'p2', 'p7', 'p6'] sum=  120\n",
            "Length of result list=  4\n",
            "['p2', 'p4', 'p1', 'p6', 'p5'] sum=  115\n",
            "Length of result list=  5\n",
            "['p4', 'p1', 'p3', 'p7'] sum=  105\n",
            "Length of result list=  4\n",
            "['p2', 'p7', 'p1', 'p6'] sum=  110\n",
            "Length of result list=  4\n",
            "['p5', 'p6', 'p1', 'p4'] sum=  100\n",
            "Length of result list=  4\n",
            "['p5', 'p3', 'p7'] sum=  100\n",
            "Length of result list=  3\n",
            "['p7', 'p1', 'p3', 'p6'] sum=  115\n",
            "Length of result list=  4\n",
            "['p7', 'p1', 'p5', 'p2'] sum=  105\n",
            "Length of result list=  4\n",
            "['p6', 'p2', 'p7', 'p1'] sum=  110\n",
            "Length of result list=  4\n",
            "['p7', 'p2', 'p4', 'p1', 'p3'] sum=  120\n",
            "Length of result list=  5\n",
            "['p5', 'p7', 'p4'] sum=  105\n",
            "Length of result list=  3\n",
            "['p3', 'p5', 'p4', 'p6'] sum=  110\n",
            "Length of result list=  4\n",
            "['p7', 'p1', 'p3', 'p2', 'p4'] sum=  120\n",
            "Length of result list=  5\n",
            "['p6', 'p1', 'p2', 'p5', 'p3'] sum=  110\n",
            "Length of result list=  5\n",
            "['p5', 'p4', 'p7'] sum=  105\n",
            "Length of result list=  3\n",
            "['p2', 'p3', 'p4', 'p1', 'p7'] sum=  120\n",
            "Length of result list=  5\n",
            "['p5', 'p6', 'p4', 'p1'] sum=  100\n",
            "Length of result list=  4\n",
            "['p6', 'p2', 'p7'] sum=  100\n",
            "Length of result list=  3\n",
            "['p7', 'p4', 'p1', 'p6'] sum=  120\n",
            "Length of result list=  4\n",
            "['p4', 'p5', 'p3', 'p1', 'p2'] sum=  100\n",
            "Length of result list=  5\n",
            "['p7', 'p5', 'p3', 'p2'] sum=  115\n",
            "Length of result list=  4\n",
            "['p7', 'p1', 'p2', 'p3', 'p4'] sum=  120\n",
            "Length of result list=  5\n",
            "['p6', 'p3', 'p7', 'p1'] sum=  115\n",
            "Length of result list=  4\n",
            "['p2', 'p5', 'p4', 'p7'] sum=  120\n",
            "Length of result list=  4\n",
            "['p6', 'p5', 'p2', 'p3'] sum=  100\n",
            "Length of result list=  4\n",
            "['p6', 'p5', 'p2', 'p3'] sum=  100\n",
            "Length of result list=  4\n",
            "['p6', 'p4', 'p1', 'p5'] sum=  100\n",
            "Length of result list=  4\n",
            "['p5', 'p2', 'p6', 'p1', 'p3'] sum=  110\n",
            "Length of result list=  5\n",
            "['p1', 'p2', 'p3', 'p6', 'p4'] sum=  105\n",
            "Length of result list=  5\n",
            "['p4', 'p1', 'p6', 'p5', 'p2'] sum=  115\n",
            "Length of result list=  5\n",
            "['p6', 'p7', 'p5'] sum=  115\n",
            "Length of result list=  3\n",
            "['p6', 'p2', 'p5', 'p1', 'p3'] sum=  110\n",
            "Length of result list=  5\n",
            "['p7', 'p5', 'p4'] sum=  105\n",
            "Length of result list=  3\n",
            "['p7', 'p5', 'p4'] sum=  105\n",
            "Length of result list=  3\n",
            "['p5', 'p4', 'p7'] sum=  105\n",
            "Length of result list=  3\n",
            "['p1', 'p7', 'p2', 'p4'] sum=  100\n",
            "Length of result list=  4\n",
            "['p5', 'p1', 'p2', 'p3', 'p4'] sum=  100\n",
            "Length of result list=  5\n",
            "['p3', 'p1', 'p2', 'p4', 'p6'] sum=  105\n",
            "Length of result list=  5\n",
            "['p6', 'p3', 'p7'] sum=  105\n",
            "Length of result list=  3\n",
            "['p6', 'p1', 'p4', 'p5', 'p3'] sum=  120\n",
            "Length of result list=  5\n",
            "['p6', 'p1', 'p3', 'p4', 'p2'] sum=  105\n",
            "Length of result list=  5\n",
            "['p2', 'p6', 'p5', 'p1', 'p4'] sum=  115\n",
            "Length of result list=  5\n",
            "['p4', 'p5', 'p2', 'p6'] sum=  105\n",
            "Length of result list=  4\n",
            "['p2', 'p7', 'p1', 'p4'] sum=  100\n",
            "Length of result list=  4\n",
            "['p7', 'p1', 'p6', 'p3'] sum=  115\n",
            "Length of result list=  4\n",
            "['p5', 'p7', 'p6'] sum=  115\n",
            "Length of result list=  3\n",
            "['p5', 'p1', 'p7', 'p4'] sum=  115\n",
            "Length of result list=  4\n",
            "['p1', 'p7', 'p2', 'p5'] sum=  105\n",
            "Length of result list=  4\n",
            "['p6', 'p4', 'p7'] sum=  110\n",
            "Length of result list=  3\n",
            "['p4', 'p5', 'p6', 'p1', 'p3'] sum=  120\n",
            "Length of result list=  5\n",
            "['p2', 'p7', 'p4', 'p3'] sum=  110\n",
            "Length of result list=  4\n",
            "['p3', 'p5', 'p2', 'p1', 'p6'] sum=  110\n",
            "Length of result list=  5\n",
            "['p7', 'p4', 'p3', 'p2'] sum=  110\n",
            "Length of result list=  4\n",
            "['p2', 'p6', 'p3', 'p5', 'p1'] sum=  110\n",
            "Length of result list=  5\n",
            "['p2', 'p7', 'p3', 'p4'] sum=  110\n",
            "Length of result list=  4\n",
            "['p7', 'p5', 'p4'] sum=  105\n",
            "Length of result list=  3\n",
            "['p3', 'p5', 'p7', 'p1'] sum=  110\n",
            "Length of result list=  4\n",
            "['p6', 'p7', 'p2'] sum=  100\n",
            "Length of result list=  3\n",
            "['p5', 'p6', 'p1', 'p4'] sum=  100\n",
            "Length of result list=  4\n",
            "['p5', 'p7', 'p4', 'p1'] sum=  115\n",
            "Length of result list=  4\n",
            "['p3', 'p7', 'p4', 'p1'] sum=  105\n",
            "Length of result list=  4\n",
            "['p2', 'p4', 'p7', 'p1'] sum=  100\n",
            "Length of result list=  4\n",
            "['p4', 'p7', 'p3', 'p1'] sum=  105\n",
            "Length of result list=  4\n",
            "['p5', 'p1', 'p6', 'p4', 'p3'] sum=  120\n",
            "Length of result list=  5\n",
            "['p2', 'p7', 'p5', 'p3'] sum=  115\n",
            "Length of result list=  4\n",
            "['p2', 'p6', 'p7', 'p3'] sum=  120\n",
            "Length of result list=  4\n",
            "['p4', 'p1', 'p6', 'p5'] sum=  100\n",
            "Length of result list=  4\n",
            "['p7', 'p3', 'p1', 'p6'] sum=  115\n",
            "Length of result list=  4\n",
            "['p3', 'p2', 'p6', 'p5'] sum=  100\n",
            "Length of result list=  4\n",
            "['p6', 'p2', 'p1', 'p5', 'p4'] sum=  115\n",
            "Length of result list=  5\n",
            "['p1', 'p5', 'p7', 'p2'] sum=  105\n",
            "Length of result list=  4\n",
            "['p1', 'p5', 'p2', 'p4', 'p3'] sum=  100\n",
            "Length of result list=  5\n",
            "['p7', 'p6', 'p2', 'p1'] sum=  110\n",
            "Length of result list=  4\n",
            "['p6', 'p5', 'p2', 'p1', 'p4'] sum=  115\n",
            "Length of result list=  5\n",
            "['p2', 'p3', 'p1', 'p4', 'p5'] sum=  100\n",
            "Length of result list=  5\n",
            "['p4', 'p6', 'p1', 'p7'] sum=  120\n",
            "Length of result list=  4\n",
            "['p7', 'p1', 'p6', 'p4'] sum=  120\n",
            "Length of result list=  4\n",
            "['p5', 'p3', 'p6', 'p1', 'p4'] sum=  120\n",
            "Length of result list=  5\n"
          ]
        }
      ]
    },
    {
      "cell_type": "markdown",
      "source": [
        "# **TEXT FILE CONVERSION**"
      ],
      "metadata": {
        "id": "ynEp-YPBrei3"
      }
    },
    {
      "cell_type": "markdown",
      "source": [
        "Compare the performance (time taken) of C, C++, Java, R, and Python programs to convert 200MB, 400MB, 600MB, 800Mb, 10000MB text files to UPPER CASE."
      ],
      "metadata": {
        "id": "P1krnBPKj3M3"
      }
    }
  ]
}